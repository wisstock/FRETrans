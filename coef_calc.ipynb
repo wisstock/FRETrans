{
 "cells": [
  {
   "cell_type": "markdown",
   "metadata": {},
   "source": [
    "Calculation of Unmixing Coefficients and G Parameter\n",
    "====================================================\n",
    "---\n",
    "_Borys Olifirov, 07.2023_"
   ]
  },
  {
   "cell_type": "markdown",
   "metadata": {},
   "source": [
    "## Theoretical intro"
   ]
  },
  {
   "cell_type": "markdown",
   "metadata": {},
   "source": [
    "Based on _Zal and Gascoigne, 2004, doi: 10.1529/biophysj.103.022087_\n",
    "\n",
    "__Intensity notation__\n",
    "\n",
    "$$I_{XM(T)}$$\n",
    "\n",
    "- X - excitation type\n",
    "- M - emission type\n",
    "- T - transfection type (A if acceptor only cells), does not present for co-transfected cells\n",
    "\n",
    "\n",
    "### Sensitized-emission\n",
    "\n",
    "$$F_c = I_{DA} - a (I_{AA} - c I_{DD}) - d (I_{DD} - b I_{AA})$$\n",
    "\n",
    "$$F_c = I_{DA} - a I_{AA} - d I_{DD}$$\n",
    "$$if$$\n",
    "$$b \\approx c \\approx 0$$\n",
    "\n",
    "\n",
    "### Crosstalc caliration\n",
    "\n",
    "$$a = \\frac{I_{DA(A)}}{I_{AA(A)}}$$\n",
    "$$b = \\frac{I_{DD(A)}}{I_{AA(A)}}$$\n",
    "$$c = \\frac{I_{AA(D)}} {I_{DD(D)}}$$\n",
    "$$d = \\frac{I_{DA(D)}} {I_{DD(D)}}$$\n",
    "\n",
    "$$b \\approx c \\approx 0$$\n",
    "\n",
    "\n",
    "### Determination of the G parameter\n",
    "\n",
    "$$G = \\frac{F_c}{I_{DD}^{post} - I_{DD}} = \\frac{(I_{DA} - a I_{AA} - d I_{DD}) - (I_{DA}^{post} - a I_{AA}^{post} - d I_{DD}^{post})}{I_{DD}^{post} - I_{DD}}$$\n",
    "\n",
    "\n",
    "### E-FRET\n",
    "\n",
    "$$E_{app} = \\frac{R}{R+G}, R = \\frac{F_c}{I_{DD}}$$\n",
    "\n",
    "$$E_{corr} = E_{app}(t) \\frac{[A^0]_{tot}}{[A^t]_{tot}} = E_{app}(t) \\times \\frac{\\overline{I_{AA}^0 - c I_{DD}^0}}{\\overline{I_{AA}(t) - c I_{DD}(t)}}$$"
   ]
  },
  {
   "cell_type": "markdown",
   "metadata": {},
   "source": [
    "## Script"
   ]
  },
  {
   "cell_type": "code",
   "execution_count": 4,
   "metadata": {},
   "outputs": [],
   "source": [
    "import os\n",
    "import sys\n",
    "import glob\n",
    "import yaml\n",
    "\n",
    "import numpy as np\n",
    "from numpy import ma\n",
    "import pandas as pd\n",
    "\n",
    "import matplotlib.pyplot as plt\n",
    "import matplotlib.patches as patches\n",
    "import matplotlib.animation as anm\n",
    "from mpl_toolkits.axes_grid1 import make_axes_locatable\n",
    "from matplotlib import colors\n",
    "from matplotlib.colors import LinearSegmentedColormap\n",
    "\n",
    "import plotly.express as px\n",
    "\n",
    "from skimage.util import montage\n",
    "from skimage.filters import rank\n",
    "from skimage import morphology\n",
    "from skimage import exposure\n",
    "from skimage import measure\n",
    "from skimage import filters\n",
    "from skimage import io\n",
    "from skimage import transform\n",
    "from skimage import registration\n",
    "\n",
    "from scipy import ndimage\n",
    "from scipy import signal\n",
    "from scipy import stats\n",
    "from scipy import ndimage as ndi"
   ]
  },
  {
   "cell_type": "markdown",
   "metadata": {},
   "source": [
    "### Crosstalk"
   ]
  },
  {
   "cell_type": "markdown",
   "metadata": {},
   "source": [
    "#### Class for calibration registration"
   ]
  },
  {
   "cell_type": "code",
   "execution_count": 2,
   "metadata": {},
   "outputs": [],
   "source": [
    "class CrossReg():\n",
    "    def __init__(self, data_path, data_name, exp_list, reg_type, trim_frame=-1, mask=True):\n",
    "        self.img_name = data_name\n",
    "        self.img_type = reg_type\n",
    "        self.img_path = data_path\n",
    "        self.img_raw = io.imread(self.img_path)[:trim_frame]\n",
    "\n",
    "        self.D_exp = exp_list[0]\n",
    "        self.A_exp = exp_list[1]\n",
    "\n",
    "        self.DD_img = self.img_raw[:,:,:,0]  # CFP-435  DD\n",
    "        self.DA_img = self.img_raw[:,:,:,1]  # YFP-435  DA\n",
    "        self.AD_img = self.img_raw[:,:,:,2]  # CFP-505  AD\n",
    "        self.AA_img = self.img_raw[:,:,:,3]  # YFP-505  AA\n",
    "\n",
    "        self.DD_mean_img = np.mean(self.DD_img, axis=0)\n",
    "        self.DA_mean_img = np.mean(self.DA_img, axis=0)\n",
    "        self.AD_mean_img = np.mean(self.AD_img, axis=0)\n",
    "        self.AA_mean_img = np.mean(self.AA_img, axis=0)\n",
    "\n",
    "        if mask:\n",
    "            self.mask = self.__cell_mask()\n",
    "\n",
    "            self.DD_img = self.__mask_along_frames(self.DD_img, self.mask)\n",
    "            self.DA_img = self.__mask_along_frames(self.DA_img, self.mask)\n",
    "            self.AD_img = self.__mask_along_frames(self.AD_img, self.mask)\n",
    "            self.AA_img = self.__mask_along_frames(self.AA_img, self.mask)\n",
    "\n",
    "\n",
    "    @staticmethod\n",
    "    def __mask_along_frames(series, mask):\n",
    "        masked_series = []\n",
    "        for frame in series:\n",
    "            back_mean = np.mean(frame, where=mask)\n",
    "            masked_frame = np.copy(frame)\n",
    "            masked_frame[~mask] = back_mean / 4\n",
    "            masked_series.append(masked_frame)\n",
    "        return np.asarray(masked_series)\n",
    "\n",
    "\n",
    "    def __cell_mask(self):\n",
    "        if self.img_type == 'A':\n",
    "            raw_mask = self.AA_mean_img > filters.threshold_otsu(self.AA_mean_img)\n",
    "        elif self.img_type == 'D':\n",
    "            raw_mask = self.DD_mean_img > filters.threshold_otsu(self.DD_mean_img)\n",
    "\n",
    "        mask = morphology.opening(raw_mask, footprint=morphology.disk(10))\n",
    "        mask = morphology.erosion(mask, footprint=morphology.disk(5))\n",
    "        return mask\n",
    "\n",
    "\n",
    "    def cross_calc(self):\n",
    "        if self.img_type == 'A':\n",
    "            self.a_arr = np.asarray([np.mean(self.DA_img[i] / self.AA_img[i]) for i in range(0, self.img_raw.shape[0])])\n",
    "            self.b_arr = np.asarray([np.mean(self.AD_img[i] / self.AA_img[i]) for i in range(0, self.img_raw.shape[0])])\n",
    "\n",
    "            self.a = np.mean(self.a_arr)\n",
    "            self.a_sd = np.std(self.a_arr)\n",
    "\n",
    "            self.b = np.mean(self.b_arr)\n",
    "            self.b_sd = np.std(self.b_arr)\n",
    "\n",
    "            a_df = pd.DataFrame({'ID':np.full(len(self.a_arr), self.img_name),\n",
    "                                 'type':np.full(len(self.a_arr), self.img_type),\n",
    "                                 'A_exp':np.full(len(self.a_arr), self.A_exp),\n",
    "                                 'D_exp':np.full(len(self.a_arr), self.D_exp),\n",
    "                                 'frame':range(len(self.a_arr)),\n",
    "                                 'coef':np.full(len(self.a_arr), 'a'),\n",
    "                                 'val':self.a_arr})\n",
    "            b_df = pd.DataFrame({'ID':np.full(len(self.b_arr), self.img_name),\n",
    "                                 'type':np.full(len(self.b_arr), self.img_type),\n",
    "                                 'A_exp':np.full(len(self.b_arr), self.A_exp),\n",
    "                                 'D_exp':np.full(len(self.b_arr), self.D_exp),\n",
    "                                 'frame':range(len(self.b_arr)),\n",
    "                                 'coef':np.full(len(self.b_arr), 'b'),\n",
    "                                 'val':self.b_arr})\n",
    "            self.cross_df = pd.concat([a_df, b_df], ignore_index=True)\n",
    "\n",
    "            coef_dict = {'ID':[self.img_name, self.img_name],\n",
    "                         'type':[self.img_type, self.img_type],\n",
    "                         'A_exp':[self.A_exp, self.A_exp],\n",
    "                         'D_exp':[self.D_exp, self.D_exp],\n",
    "                         'coef':['a', 'b'],\n",
    "                         'val':[self.a, self.b],\n",
    "                         'sd':[self.a_sd, self.b_sd]}\n",
    "            self.coef_df = pd.DataFrame(coef_dict)\n",
    "\n",
    "        elif self.img_type == 'D':\n",
    "            self.c_arr = np.asarray([np.mean(self.AA_img[i] / self.DD_img[i]) \\\n",
    "                                     for i in range(0, self.img_raw.shape[0])])\n",
    "            self.d_arr = np.asarray([np.mean(self.DA_img[i] / self.DD_img[i]) \\\n",
    "                                     for i in range(0, self.img_raw.shape[0])])\n",
    "\n",
    "            self.c = np.mean(self.c_arr)\n",
    "            self.c_sd = np.std(self.c_arr)\n",
    "\n",
    "            self.d = np.mean(self.d_arr)\n",
    "            self.d_sd = np.std(self.d_arr)\n",
    "\n",
    "            c_df = pd.DataFrame({'ID':np.full(len(self.c_arr), self.img_name),\n",
    "                                 'type':np.full(len(self.c_arr), self.img_type),\n",
    "                                 'A_exp':np.full(len(self.c_arr), self.A_exp),\n",
    "                                 'D_exp':np.full(len(self.c_arr), self.D_exp),\n",
    "                                 'frame':range(len(self.c_arr)),\n",
    "                                 'coef':np.full(len(self.c_arr), 'c'),\n",
    "                                 'val':self.c_arr})\n",
    "            d_df = pd.DataFrame({'ID':np.full(len(self.d_arr), self.img_name),\n",
    "                                 'type':np.full(len(self.d_arr), self.img_type),\n",
    "                                 'A_exp':np.full(len(self.d_arr), self.A_exp),\n",
    "                                 'D_exp':np.full(len(self.d_arr), self.D_exp),\n",
    "                                 'frame':range(len(self.d_arr)),\n",
    "                                 'coef':np.full(len(self.d_arr), 'd'),\n",
    "                                 'val':self.d_arr})\n",
    "            self.cross_df = pd.concat([c_df, d_df], ignore_index=True)\n",
    "\n",
    "            coef_dict = {'ID':[self.img_name, self.img_name],\n",
    "                         'type':[self.img_type, self.img_type],\n",
    "                         'A_exp':[self.A_exp, self.A_exp],\n",
    "                         'D_exp':[self.D_exp, self.D_exp],\n",
    "                         'coef':['c', 'd'],\n",
    "                         'val':[self.c, self.d],\n",
    "                         'sd':[self.c_sd, self.d_sd]}\n",
    "            self.coef_df = pd.DataFrame(coef_dict)\n",
    "\n",
    "\n",
    "    def plot_hist(self):\n",
    "        plt.figure(figsize=(8,8))\n",
    "\n",
    "        ax0 = plt.subplot(211)\n",
    "        ax0.hist(self.DD_mean_img.ravel(), bins=256,\n",
    "                 alpha=.5,label='Ch 0 (CFP-435)', color='r')\n",
    "        ax0.hist(self.DA_mean_img.ravel(), bins=256,\n",
    "                 alpha=.5, label='Ch 1 (YFP-435)', color='g')\n",
    "        ax0.hist(self.AD_mean_img.ravel(), bins=256,\n",
    "                 alpha=.5, label='Ch 2 (CFP-505)', color='y')\n",
    "        ax0.hist(self.AA_mean_img.ravel(), bins=256,\n",
    "                 alpha=.5, label='Ch 3 (YFP-505)', color='b')\n",
    "        ax0.legend()\n",
    "\n",
    "        plt.title(f'File {self.img_name}, type {self.img_type}')\n",
    "        plt.tight_layout()\n",
    "        plt.show()\n",
    "\n",
    "\n",
    "    def ff_profile(self):\n",
    "        plt.figure(figsize=(8,4))\n",
    "\n",
    "        ax0 = plt.subplot()\n",
    "        ax0.plot(np.mean(self.DD_img, axis=(1,2)),\n",
    "                 label='Ch 0 (CFP-435)', color='r')\n",
    "        ax0.plot(np.mean(self.DA_img, axis=(1,2)),\n",
    "                 label='Ch 1 (YFP-435)', color='g')\n",
    "        ax0.plot(np.mean(self.AD_img, axis=(1,2)),\n",
    "                 label='Ch 2 (CFP-505)', color='y')\n",
    "        ax0.plot(np.mean(self.AA_img, axis=(1,2)),\n",
    "                 label='Ch 3 (YFP-505)', color='b')\n",
    "        ax0.legend()\n",
    "\n",
    "        plt.title(f'File {self.img_name}, type {self.img_type}')\n",
    "        plt.tight_layout()\n",
    "        plt.show()        \n",
    "\n",
    "\n",
    "    def ch_pic(self):\n",
    "        int_min = np.min(self.img_raw)\n",
    "        int_max = np.max(self.img_raw)\n",
    "\n",
    "\n",
    "        plt.figure(figsize=(10,10))\n",
    "\n",
    "        ax0 = plt.subplot(221)\n",
    "        ax0.set_title('DD (Ch.0)')\n",
    "        img0 = ax0.imshow(self.DD_mean_img, cmap='jet')\n",
    "        img0.set_clim(vmin=int_min, vmax=int_max)\n",
    "        div0 = make_axes_locatable(ax0)\n",
    "        cax0 = div0.append_axes('right', size='3%', pad=0.1)\n",
    "        plt.colorbar(img0, cax=cax0)\n",
    "        ax0.axis('off')\n",
    "\n",
    "        ax1 = plt.subplot(222)\n",
    "        ax1.set_title('DA (Ch.1)')\n",
    "        img1 = ax1.imshow(self.DA_mean_img, cmap='jet')\n",
    "        img1.set_clim(vmin=int_min, vmax=int_max)\n",
    "        div1 = make_axes_locatable(ax1)\n",
    "        cax1 = div1.append_axes('right', size='3%', pad=0.1)\n",
    "        plt.colorbar(img1, cax=cax1)\n",
    "        ax1.axis('off')\n",
    "\n",
    "        ax2 = plt.subplot(223)\n",
    "        ax2.set_title('AD (Ch.2)')\n",
    "        img2 = ax2.imshow(self.AD_mean_img, cmap='jet')\n",
    "        img2.set_clim(vmin=int_min, vmax=int_max)\n",
    "        div2 = make_axes_locatable(ax2)\n",
    "        cax2 = div2.append_axes('right', size='3%', pad=0.1)\n",
    "        plt.colorbar(img2, cax=cax2)\n",
    "        ax2.axis('off')\n",
    "\n",
    "        ax3 = plt.subplot(224)\n",
    "        ax3.set_title('AA (Ch.3)')\n",
    "        img3 = ax3.imshow(self.AA_mean_img, cmap='jet')\n",
    "        img3.set_clim(vmin=int_min, vmax=int_max)\n",
    "        div3 = make_axes_locatable(ax3)\n",
    "        cax3 = div3.append_axes('right', size='3%', pad=0.1)\n",
    "        plt.colorbar(img3, cax=cax3)\n",
    "        ax3.axis('off')\n",
    "\n",
    "        plt.suptitle(f'File {self.img_name}, type {self.img_type}')\n",
    "        plt.tight_layout()\n",
    "        plt.show()\n",
    "\n",
    "        "
   ]
  },
  {
   "cell_type": "markdown",
   "metadata": {},
   "source": [
    "#### Data uploading"
   ]
  },
  {
   "cell_type": "code",
   "execution_count": 3,
   "metadata": {},
   "outputs": [],
   "source": [
    "img_path = 'data/crosstalk/'\n",
    "\n",
    "donor_reg = {'01':[400, 200],  # [exp 435 ms, exp 505 ms]\n",
    "             '02':[700, 300],\n",
    "             '03':[500, 400]}\n",
    "acceptor_reg = {'04':[500, 100],\n",
    "                '05':[700, 200],\n",
    "                '06':[500, 300]}\n",
    "\n",
    "donor_reg_list = []\n",
    "for reg_name in donor_reg.keys():\n",
    "    name_path = img_path + f'{reg_name}.tif'\n",
    "    donor_reg_list.append(CrossReg(data_path=name_path,\n",
    "                                   data_name=reg_name,\n",
    "                                   exp_list=donor_reg[reg_name],\n",
    "                                   reg_type='D',\n",
    "                                   trim_frame=-1))\n",
    "acceptor_reg_list = []\n",
    "for reg_name in acceptor_reg.keys():\n",
    "    name_path = img_path + f'{reg_name}.tif'\n",
    "    acceptor_reg_list.append(CrossReg(data_path=name_path,\n",
    "                                      data_name=reg_name,\n",
    "                                      exp_list=acceptor_reg[reg_name],\n",
    "                                      reg_type='A',\n",
    "                                      trim_frame=-1))"
   ]
  },
  {
   "cell_type": "markdown",
   "metadata": {},
   "source": [
    "#### Analysis"
   ]
  },
  {
   "cell_type": "markdown",
   "metadata": {},
   "source": [
    "Concatenation of all coeficients data frames"
   ]
  },
  {
   "cell_type": "code",
   "execution_count": 4,
   "metadata": {},
   "outputs": [],
   "source": [
    "cross_coef_df = pd.DataFrame(columns=['ID',\n",
    "                                      'type',\n",
    "                                      'A_exp',\n",
    "                                      'D_exp',\n",
    "                                      'frame',\n",
    "                                      'coef',\n",
    "                                      'val'])\n",
    "\n",
    "cross_val_df = pd.DataFrame(columns=['ID',\n",
    "                                     'type',\n",
    "                                     'A_exp',\n",
    "                                     'D_exp',\n",
    "                                     'coef',\n",
    "                                     'val',\n",
    "                                     'sd'])\n",
    "\n",
    "for reg in acceptor_reg_list + donor_reg_list:\n",
    "    reg.cross_calc()\n",
    "    # reg.ch_pic()\n",
    "    cross_coef_df = pd.concat([cross_coef_df, reg.cross_df], ignore_index=True)\n",
    "    cross_val_df = pd.concat([cross_val_df, reg.coef_df], ignore_index=True)\n",
    "    \n",
    "    "
   ]
  },
  {
   "cell_type": "code",
   "execution_count": 27,
   "metadata": {},
   "outputs": [
    {
     "name": "stdout",
     "output_type": "stream",
     "text": [
      "c=0.144+/-0.0318\n"
     ]
    },
    {
     "data": {
      "text/html": [
       "<div>\n",
       "<style scoped>\n",
       "    .dataframe tbody tr th:only-of-type {\n",
       "        vertical-align: middle;\n",
       "    }\n",
       "\n",
       "    .dataframe tbody tr th {\n",
       "        vertical-align: top;\n",
       "    }\n",
       "\n",
       "    .dataframe thead th {\n",
       "        text-align: right;\n",
       "    }\n",
       "</style>\n",
       "<table border=\"1\" class=\"dataframe\">\n",
       "  <thead>\n",
       "    <tr style=\"text-align: right;\">\n",
       "      <th></th>\n",
       "      <th>ID</th>\n",
       "      <th>type</th>\n",
       "      <th>A_exp</th>\n",
       "      <th>D_exp</th>\n",
       "      <th>coef</th>\n",
       "      <th>val</th>\n",
       "      <th>sd</th>\n",
       "    </tr>\n",
       "  </thead>\n",
       "  <tbody>\n",
       "    <tr>\n",
       "      <th>0</th>\n",
       "      <td>04</td>\n",
       "      <td>A</td>\n",
       "      <td>100</td>\n",
       "      <td>500</td>\n",
       "      <td>a</td>\n",
       "      <td>0.175774</td>\n",
       "      <td>0.005592</td>\n",
       "    </tr>\n",
       "    <tr>\n",
       "      <th>2</th>\n",
       "      <td>05</td>\n",
       "      <td>A</td>\n",
       "      <td>200</td>\n",
       "      <td>700</td>\n",
       "      <td>a</td>\n",
       "      <td>0.657202</td>\n",
       "      <td>0.046830</td>\n",
       "    </tr>\n",
       "    <tr>\n",
       "      <th>4</th>\n",
       "      <td>06</td>\n",
       "      <td>A</td>\n",
       "      <td>300</td>\n",
       "      <td>500</td>\n",
       "      <td>a</td>\n",
       "      <td>0.112207</td>\n",
       "      <td>0.014132</td>\n",
       "    </tr>\n",
       "  </tbody>\n",
       "</table>\n",
       "</div>"
      ],
      "text/plain": [
       "   ID type A_exp D_exp coef       val        sd\n",
       "0  04    A   100   500    a  0.175774  0.005592\n",
       "2  05    A   200   700    a  0.657202  0.046830\n",
       "4  06    A   300   500    a  0.112207  0.014132"
      ]
     },
     "execution_count": 27,
     "metadata": {},
     "output_type": "execute_result"
    }
   ],
   "source": [
    "cross_val_df.loc[cross_val_df.coef == 'a']"
   ]
  },
  {
   "cell_type": "code",
   "execution_count": 26,
   "metadata": {},
   "outputs": [
    {
     "name": "stdout",
     "output_type": "stream",
     "text": [
      "c=0.1292+/-0.0027\n"
     ]
    },
    {
     "data": {
      "text/html": [
       "<div>\n",
       "<style scoped>\n",
       "    .dataframe tbody tr th:only-of-type {\n",
       "        vertical-align: middle;\n",
       "    }\n",
       "\n",
       "    .dataframe tbody tr th {\n",
       "        vertical-align: top;\n",
       "    }\n",
       "\n",
       "    .dataframe thead th {\n",
       "        text-align: right;\n",
       "    }\n",
       "</style>\n",
       "<table border=\"1\" class=\"dataframe\">\n",
       "  <thead>\n",
       "    <tr style=\"text-align: right;\">\n",
       "      <th></th>\n",
       "      <th>ID</th>\n",
       "      <th>type</th>\n",
       "      <th>A_exp</th>\n",
       "      <th>D_exp</th>\n",
       "      <th>coef</th>\n",
       "      <th>val</th>\n",
       "      <th>sd</th>\n",
       "    </tr>\n",
       "  </thead>\n",
       "  <tbody>\n",
       "    <tr>\n",
       "      <th>1</th>\n",
       "      <td>04</td>\n",
       "      <td>A</td>\n",
       "      <td>100</td>\n",
       "      <td>500</td>\n",
       "      <td>b</td>\n",
       "      <td>0.126509</td>\n",
       "      <td>0.005470</td>\n",
       "    </tr>\n",
       "    <tr>\n",
       "      <th>3</th>\n",
       "      <td>05</td>\n",
       "      <td>A</td>\n",
       "      <td>200</td>\n",
       "      <td>700</td>\n",
       "      <td>b</td>\n",
       "      <td>0.456507</td>\n",
       "      <td>0.045130</td>\n",
       "    </tr>\n",
       "    <tr>\n",
       "      <th>5</th>\n",
       "      <td>06</td>\n",
       "      <td>A</td>\n",
       "      <td>300</td>\n",
       "      <td>500</td>\n",
       "      <td>b</td>\n",
       "      <td>0.131851</td>\n",
       "      <td>0.010939</td>\n",
       "    </tr>\n",
       "  </tbody>\n",
       "</table>\n",
       "</div>"
      ],
      "text/plain": [
       "   ID type A_exp D_exp coef       val        sd\n",
       "1  04    A   100   500    b  0.126509  0.005470\n",
       "3  05    A   200   700    b  0.456507  0.045130\n",
       "5  06    A   300   500    b  0.131851  0.010939"
      ]
     },
     "execution_count": 26,
     "metadata": {},
     "output_type": "execute_result"
    }
   ],
   "source": [
    "cross_val_df.loc[cross_val_df.coef == 'b']"
   ]
  },
  {
   "cell_type": "code",
   "execution_count": 24,
   "metadata": {},
   "outputs": [
    {
     "name": "stdout",
     "output_type": "stream",
     "text": [
      "c=0.2458+/-0.0298\n"
     ]
    },
    {
     "data": {
      "text/html": [
       "<div>\n",
       "<style scoped>\n",
       "    .dataframe tbody tr th:only-of-type {\n",
       "        vertical-align: middle;\n",
       "    }\n",
       "\n",
       "    .dataframe tbody tr th {\n",
       "        vertical-align: top;\n",
       "    }\n",
       "\n",
       "    .dataframe thead th {\n",
       "        text-align: right;\n",
       "    }\n",
       "</style>\n",
       "<table border=\"1\" class=\"dataframe\">\n",
       "  <thead>\n",
       "    <tr style=\"text-align: right;\">\n",
       "      <th></th>\n",
       "      <th>ID</th>\n",
       "      <th>type</th>\n",
       "      <th>A_exp</th>\n",
       "      <th>D_exp</th>\n",
       "      <th>coef</th>\n",
       "      <th>val</th>\n",
       "      <th>sd</th>\n",
       "    </tr>\n",
       "  </thead>\n",
       "  <tbody>\n",
       "    <tr>\n",
       "      <th>6</th>\n",
       "      <td>01</td>\n",
       "      <td>D</td>\n",
       "      <td>200</td>\n",
       "      <td>400</td>\n",
       "      <td>c</td>\n",
       "      <td>0.216067</td>\n",
       "      <td>0.006042</td>\n",
       "    </tr>\n",
       "    <tr>\n",
       "      <th>8</th>\n",
       "      <td>02</td>\n",
       "      <td>D</td>\n",
       "      <td>300</td>\n",
       "      <td>700</td>\n",
       "      <td>c</td>\n",
       "      <td>0.275591</td>\n",
       "      <td>0.010731</td>\n",
       "    </tr>\n",
       "    <tr>\n",
       "      <th>10</th>\n",
       "      <td>03</td>\n",
       "      <td>D</td>\n",
       "      <td>400</td>\n",
       "      <td>500</td>\n",
       "      <td>c</td>\n",
       "      <td>0.082387</td>\n",
       "      <td>0.001150</td>\n",
       "    </tr>\n",
       "  </tbody>\n",
       "</table>\n",
       "</div>"
      ],
      "text/plain": [
       "    ID type A_exp D_exp coef       val        sd\n",
       "6   01    D   200   400    c  0.216067  0.006042\n",
       "8   02    D   300   700    c  0.275591  0.010731\n",
       "10  03    D   400   500    c  0.082387  0.001150"
      ]
     },
     "execution_count": 24,
     "metadata": {},
     "output_type": "execute_result"
    }
   ],
   "source": [
    "cross_val_df.loc[cross_val_df.coef == 'c']"
   ]
  },
  {
   "cell_type": "code",
   "execution_count": 20,
   "metadata": {},
   "outputs": [
    {
     "name": "stdout",
     "output_type": "stream",
     "text": [
      "d=0.8506+/-0.0138\n"
     ]
    },
    {
     "data": {
      "text/html": [
       "<div>\n",
       "<style scoped>\n",
       "    .dataframe tbody tr th:only-of-type {\n",
       "        vertical-align: middle;\n",
       "    }\n",
       "\n",
       "    .dataframe tbody tr th {\n",
       "        vertical-align: top;\n",
       "    }\n",
       "\n",
       "    .dataframe thead th {\n",
       "        text-align: right;\n",
       "    }\n",
       "</style>\n",
       "<table border=\"1\" class=\"dataframe\">\n",
       "  <thead>\n",
       "    <tr style=\"text-align: right;\">\n",
       "      <th></th>\n",
       "      <th>ID</th>\n",
       "      <th>type</th>\n",
       "      <th>A_exp</th>\n",
       "      <th>D_exp</th>\n",
       "      <th>coef</th>\n",
       "      <th>val</th>\n",
       "      <th>sd</th>\n",
       "    </tr>\n",
       "  </thead>\n",
       "  <tbody>\n",
       "    <tr>\n",
       "      <th>7</th>\n",
       "      <td>01</td>\n",
       "      <td>D</td>\n",
       "      <td>200</td>\n",
       "      <td>400</td>\n",
       "      <td>d</td>\n",
       "      <td>0.845942</td>\n",
       "      <td>0.002367</td>\n",
       "    </tr>\n",
       "    <tr>\n",
       "      <th>9</th>\n",
       "      <td>02</td>\n",
       "      <td>D</td>\n",
       "      <td>300</td>\n",
       "      <td>700</td>\n",
       "      <td>d</td>\n",
       "      <td>0.869356</td>\n",
       "      <td>0.003092</td>\n",
       "    </tr>\n",
       "    <tr>\n",
       "      <th>11</th>\n",
       "      <td>03</td>\n",
       "      <td>D</td>\n",
       "      <td>400</td>\n",
       "      <td>500</td>\n",
       "      <td>d</td>\n",
       "      <td>0.836573</td>\n",
       "      <td>0.000887</td>\n",
       "    </tr>\n",
       "  </tbody>\n",
       "</table>\n",
       "</div>"
      ],
      "text/plain": [
       "    ID type A_exp D_exp coef       val        sd\n",
       "7   01    D   200   400    d  0.845942  0.002367\n",
       "9   02    D   300   700    d  0.869356  0.003092\n",
       "11  03    D   400   500    d  0.836573  0.000887"
      ]
     },
     "execution_count": 20,
     "metadata": {},
     "output_type": "execute_result"
    }
   ],
   "source": [
    "cross_val_df.loc[cross_val_df.coef == 'd']"
   ]
  },
  {
   "cell_type": "code",
   "execution_count": 29,
   "metadata": {},
   "outputs": [
    {
     "name": "stdout",
     "output_type": "stream",
     "text": [
      "a=0.144+/-0.0318\n",
      "b=0.1292+/-0.0027\n",
      "c=0.2458+/-0.0298\n",
      "d=0.8506+/-0.0138\n"
     ]
    }
   ],
   "source": [
    "a_mean = np.mean(cross_val_df['val'][(cross_val_df['coef'] == 'a') & (cross_val_df['ID'] != '05')])\n",
    "a_sd = np.std(cross_val_df['val'][(cross_val_df['coef'] == 'a') & (cross_val_df['ID'] != '05')])\n",
    "print(f'a={round(a_mean, 4)}+/-{round(a_sd, 4)}')\n",
    "\n",
    "b_mean = np.mean(cross_val_df['val'][(cross_val_df['coef'] == 'b') & (cross_val_df['ID'] != '05')])\n",
    "b_sd = np.std(cross_val_df['val'][(cross_val_df['coef'] == 'b') & (cross_val_df['ID'] != '05')])\n",
    "print(f'b={round(b_mean, 4)}+/-{round(b_sd, 4)}')\n",
    "\n",
    "c_mean = np.mean(cross_val_df['val'][(cross_val_df['coef'] == 'c') & (cross_val_df['ID'] != '03')])\n",
    "c_sd = np.std(cross_val_df['val'][(cross_val_df['coef'] == 'c') & (cross_val_df['ID'] != '03')])\n",
    "print(f'c={round(c_mean, 4)}+/-{round(c_sd, 4)}')\n",
    "\n",
    "d_mean = np.mean(cross_val_df['val'][cross_val_df['coef'] == 'd'])\n",
    "d_sd = np.std(cross_val_df['val'][cross_val_df['coef'] == 'd'])\n",
    "print(f'd={round(d_mean, 4)}+/-{round(d_sd, 4)}')"
   ]
  },
  {
   "cell_type": "markdown",
   "metadata": {},
   "source": [
    "__a__=0.144+/-0.0318\n",
    "\n",
    "__b__=0.1292+/-0.0027\n",
    "\n",
    "__c__=0.2458+/-0.0298\n",
    "\n",
    "__d__=0.8506+/-0.0138\n"
   ]
  },
  {
   "cell_type": "markdown",
   "metadata": {},
   "source": [
    "Vis."
   ]
  },
  {
   "cell_type": "code",
   "execution_count": 5,
   "metadata": {},
   "outputs": [
    {
     "data": {
      "application/vnd.plotly.v1+json": {
       "config": {
        "plotlyServerURL": "https://plot.ly"
       },
       "data": [
        {
         "alignmentgroup": "True",
         "boxpoints": "all",
         "hovertemplate": "ID=04<br>coef=%{x}<br>val=%{y}<extra></extra>",
         "legendgroup": "04",
         "marker": {
          "color": "#636efa"
         },
         "name": "04",
         "notched": false,
         "offsetgroup": "04",
         "orientation": "v",
         "showlegend": true,
         "type": "box",
         "x": [
          "a",
          "a",
          "a",
          "a",
          "a",
          "a",
          "a",
          "a",
          "a",
          "a",
          "a",
          "a",
          "a",
          "a",
          "a",
          "a",
          "a",
          "a",
          "a",
          "a",
          "a",
          "a",
          "a",
          "a",
          "a",
          "a",
          "a",
          "a",
          "a",
          "a",
          "a",
          "a",
          "a",
          "a",
          "a",
          "a",
          "a",
          "a",
          "a",
          "a",
          "a",
          "a",
          "a",
          "a",
          "a",
          "a",
          "a",
          "a",
          "a",
          "b",
          "b",
          "b",
          "b",
          "b",
          "b",
          "b",
          "b",
          "b",
          "b",
          "b",
          "b",
          "b",
          "b",
          "b",
          "b",
          "b",
          "b",
          "b",
          "b",
          "b",
          "b",
          "b",
          "b",
          "b",
          "b",
          "b",
          "b",
          "b",
          "b",
          "b",
          "b",
          "b",
          "b",
          "b",
          "b",
          "b",
          "b",
          "b",
          "b",
          "b",
          "b",
          "b",
          "b",
          "b",
          "b",
          "b",
          "b",
          "b"
         ],
         "x0": " ",
         "xaxis": "x",
         "y": [
          0.16821354981204625,
          0.16814140821716217,
          0.16749396858604662,
          0.16741651137155034,
          0.16784784587593457,
          0.1690153478102115,
          0.1688528106664819,
          0.16906226174303263,
          0.1691858228240838,
          0.1697632200918953,
          0.17007578352004402,
          0.17066542464341677,
          0.17062001609739033,
          0.17113246678260924,
          0.17213550806563852,
          0.17172067984068648,
          0.17184205310450762,
          0.17299694871959323,
          0.17316735925707216,
          0.1741413305951698,
          0.17351544516999637,
          0.17389344427885473,
          0.17469199033848537,
          0.174663934677399,
          0.1757636432047844,
          0.17552780043499244,
          0.1758341752566738,
          0.1754979275563209,
          0.17724029604495287,
          0.17833130477377424,
          0.1784309122974078,
          0.17845609612694638,
          0.17888598091993324,
          0.179349388883004,
          0.17979815200730193,
          0.1794422941520206,
          0.1802626789126135,
          0.18121439992830835,
          0.1810358291050724,
          0.18044233358012737,
          0.1819539739818244,
          0.18315215383888991,
          0.18318772956475823,
          0.18359232065130107,
          0.1836288059930832,
          0.18460992011750696,
          0.18538790477675532,
          0.18605080881924516,
          0.185604941458934,
          0.11750114119053903,
          0.11786373367040454,
          0.11816273436858996,
          0.1191933318751541,
          0.11906157746778598,
          0.1197377768278892,
          0.11954046295265824,
          0.11976042518658102,
          0.12044140387611263,
          0.1210936005600001,
          0.12084378236507572,
          0.1209453135430445,
          0.12153267215120807,
          0.12158953619004649,
          0.12272052022829937,
          0.12232312047841451,
          0.12385642216522659,
          0.12392779842542137,
          0.12353187707377965,
          0.12466628916159164,
          0.12412665103700966,
          0.12466419709269201,
          0.12629186826792083,
          0.12575382092377668,
          0.12656841735330893,
          0.12714957519637526,
          0.1276483229440688,
          0.1281604343791921,
          0.1281248273861238,
          0.1287282999097458,
          0.12909469112906322,
          0.12854197905292555,
          0.1300284633069411,
          0.12930982044364978,
          0.13081067333408103,
          0.12999607095181473,
          0.130395714820395,
          0.13089021186063773,
          0.13199791579361936,
          0.13312742660675822,
          0.13258792709200717,
          0.1334808359267349,
          0.13382555326892523,
          0.13372672326708787,
          0.13408594845255933,
          0.13481977846026758,
          0.13594531475928714,
          0.13547453800184017,
          0.1352809937759738
         ],
         "y0": " ",
         "yaxis": "y"
        },
        {
         "alignmentgroup": "True",
         "boxpoints": "all",
         "hovertemplate": "ID=05<br>coef=%{x}<br>val=%{y}<extra></extra>",
         "legendgroup": "05",
         "marker": {
          "color": "#EF553B"
         },
         "name": "05",
         "notched": false,
         "offsetgroup": "05",
         "orientation": "v",
         "showlegend": true,
         "type": "box",
         "x": [
          "a",
          "a",
          "a",
          "a",
          "a",
          "a",
          "a",
          "a",
          "a",
          "a",
          "a",
          "a",
          "a",
          "a",
          "a",
          "a",
          "a",
          "a",
          "a",
          "a",
          "a",
          "a",
          "a",
          "a",
          "a",
          "a",
          "a",
          "a",
          "a",
          "a",
          "a",
          "a",
          "a",
          "a",
          "a",
          "a",
          "a",
          "a",
          "a",
          "a",
          "a",
          "a",
          "a",
          "a",
          "a",
          "a",
          "a",
          "a",
          "a",
          "b",
          "b",
          "b",
          "b",
          "b",
          "b",
          "b",
          "b",
          "b",
          "b",
          "b",
          "b",
          "b",
          "b",
          "b",
          "b",
          "b",
          "b",
          "b",
          "b",
          "b",
          "b",
          "b",
          "b",
          "b",
          "b",
          "b",
          "b",
          "b",
          "b",
          "b",
          "b",
          "b",
          "b",
          "b",
          "b",
          "b",
          "b",
          "b",
          "b",
          "b",
          "b",
          "b",
          "b",
          "b",
          "b",
          "b",
          "b",
          "b"
         ],
         "x0": " ",
         "xaxis": "x",
         "y": [
          0.5955721493455884,
          0.5901214906678063,
          0.5862560816537424,
          0.589777993419761,
          0.5931525191470419,
          0.5921643127294963,
          0.590306077952569,
          0.5939407845656751,
          0.5995923032246752,
          0.6037073440281117,
          0.6066699373639004,
          0.6107087430885701,
          0.6168388390054544,
          0.6211932966462987,
          0.619508093603514,
          0.6259764364773726,
          0.6324753108605871,
          0.6307499183636643,
          0.6407384579243384,
          0.6353875959757525,
          0.6422940195433199,
          0.6439061465065272,
          0.6512347202053422,
          0.658337722557258,
          0.6567837792150822,
          0.65681341804985,
          0.6680523416229286,
          0.6622844515619231,
          0.6701841398653541,
          0.6741790457279909,
          0.682067434379305,
          0.6802656765035909,
          0.6882988077088258,
          0.6884517493410458,
          0.6908765618661024,
          0.6970425740739687,
          0.6993573015482236,
          0.6976232496369555,
          0.7082238957138092,
          0.7127179882152095,
          0.7064977977563642,
          0.7154302075676165,
          0.7201218372454483,
          0.7202290055711402,
          0.7184884725308968,
          0.7248598666420123,
          0.7279780945654966,
          0.7280158936461755,
          0.7374441889772374,
          0.3758900038991125,
          0.3765820913405782,
          0.38000401718761084,
          0.38524372263949036,
          0.3905966433707855,
          0.39146239816527145,
          0.39797534789549927,
          0.4036517117442723,
          0.4029003252626144,
          0.4088279007420168,
          0.4109951145946492,
          0.41710989203823157,
          0.42130962672977224,
          0.4227419894746139,
          0.42501883707183474,
          0.42946314652519213,
          0.434042734095497,
          0.4364129820193024,
          0.4381446323314992,
          0.4435061110385002,
          0.4482906213633541,
          0.4531907258640314,
          0.4528848952371885,
          0.4579399536290364,
          0.4605505238379288,
          0.46072854675854874,
          0.4630094252220748,
          0.4687189377696062,
          0.47415475241688354,
          0.47124569625213447,
          0.4768495081062765,
          0.47977847049103356,
          0.48542464359526166,
          0.4856272673398307,
          0.4914382995070469,
          0.49161137736142896,
          0.49756838511367574,
          0.500772848080059,
          0.5038569514642389,
          0.5070746712247732,
          0.5071296386726717,
          0.50735749737626,
          0.5106433834446519,
          0.517003769264273,
          0.5141265449662685,
          0.5204456450427762,
          0.520822396184041,
          0.5210042761528202,
          0.5277275751051751
         ],
         "y0": " ",
         "yaxis": "y"
        },
        {
         "alignmentgroup": "True",
         "boxpoints": "all",
         "hovertemplate": "ID=06<br>coef=%{x}<br>val=%{y}<extra></extra>",
         "legendgroup": "06",
         "marker": {
          "color": "#00cc96"
         },
         "name": "06",
         "notched": false,
         "offsetgroup": "06",
         "orientation": "v",
         "showlegend": true,
         "type": "box",
         "x": [
          "a",
          "a",
          "a",
          "a",
          "a",
          "a",
          "a",
          "a",
          "a",
          "a",
          "a",
          "a",
          "a",
          "a",
          "a",
          "a",
          "a",
          "a",
          "a",
          "a",
          "a",
          "a",
          "a",
          "a",
          "a",
          "a",
          "a",
          "a",
          "a",
          "a",
          "a",
          "a",
          "a",
          "a",
          "a",
          "a",
          "a",
          "a",
          "a",
          "a",
          "a",
          "a",
          "a",
          "a",
          "a",
          "a",
          "a",
          "a",
          "a",
          "b",
          "b",
          "b",
          "b",
          "b",
          "b",
          "b",
          "b",
          "b",
          "b",
          "b",
          "b",
          "b",
          "b",
          "b",
          "b",
          "b",
          "b",
          "b",
          "b",
          "b",
          "b",
          "b",
          "b",
          "b",
          "b",
          "b",
          "b",
          "b",
          "b",
          "b",
          "b",
          "b",
          "b",
          "b",
          "b",
          "b",
          "b",
          "b",
          "b",
          "b",
          "b",
          "b",
          "b",
          "b",
          "b",
          "b",
          "b",
          "b"
         ],
         "x0": " ",
         "xaxis": "x",
         "y": [
          0.09040566875748944,
          0.09134560020292802,
          0.09211988128696484,
          0.09236299071482054,
          0.09308750622386126,
          0.09372422156301297,
          0.09445633140226967,
          0.09508617889272515,
          0.09630518336563275,
          0.09699562959332267,
          0.09826329598596628,
          0.09877127371809621,
          0.09955311144083835,
          0.10068765404950697,
          0.10116667809698562,
          0.10245482092971023,
          0.10316901720398086,
          0.10406065652714414,
          0.1054774065096753,
          0.10661030670647682,
          0.10716041342538891,
          0.1083285600798193,
          0.1094723628419738,
          0.1105865818836007,
          0.11173610354586408,
          0.11242007514327633,
          0.11347404700623769,
          0.11462332484609448,
          0.11574849841053798,
          0.11699867651552909,
          0.11801631973797436,
          0.11905137086944512,
          0.11953104904628846,
          0.12083947379556906,
          0.12143482899546962,
          0.12299754988224638,
          0.12445162110522624,
          0.126023231216692,
          0.1261909289956546,
          0.12743376263646908,
          0.12869009016610178,
          0.12947919133696204,
          0.13120997023096298,
          0.13202525093006176,
          0.13222408814869377,
          0.13380531194481554,
          0.13460427038651565,
          0.13668243465304422,
          0.13679972751989541,
          0.11398682309909793,
          0.11629019429251453,
          0.11656747907050222,
          0.11722951022888224,
          0.11743267822329465,
          0.11846971642157608,
          0.11862933808049107,
          0.11913871017221023,
          0.11974115495419278,
          0.12027380513105684,
          0.12084425405876305,
          0.1217424696893337,
          0.12234078997888655,
          0.12270931731616654,
          0.12412401728924026,
          0.12460331802104628,
          0.12445733986664456,
          0.12631339269031405,
          0.12619463018042554,
          0.12699373183838011,
          0.12720411459528366,
          0.1280536990615839,
          0.12882072913466217,
          0.13022943821643282,
          0.13025946120404097,
          0.13193789581685958,
          0.13327223257103724,
          0.1340182612277542,
          0.13466920269220317,
          0.1346258859782821,
          0.1351155434560903,
          0.1364066508366836,
          0.13790796557443494,
          0.13781936867140185,
          0.139496991939994,
          0.1404636334082039,
          0.1403977233559082,
          0.14216746123195242,
          0.1425561857114684,
          0.14402749993795647,
          0.14458033723995595,
          0.1446682715136952,
          0.14562035612460336,
          0.14665032203918865,
          0.1489411781817824,
          0.1497381220358702,
          0.14972898469672943,
          0.1509888454224823,
          0.15225043038688374
         ],
         "y0": " ",
         "yaxis": "y"
        },
        {
         "alignmentgroup": "True",
         "boxpoints": "all",
         "hovertemplate": "ID=01<br>coef=%{x}<br>val=%{y}<extra></extra>",
         "legendgroup": "01",
         "marker": {
          "color": "#ab63fa"
         },
         "name": "01",
         "notched": false,
         "offsetgroup": "01",
         "orientation": "v",
         "showlegend": true,
         "type": "box",
         "x": [
          "c",
          "c",
          "c",
          "c",
          "c",
          "c",
          "c",
          "c",
          "c",
          "c",
          "c",
          "c",
          "c",
          "c",
          "c",
          "c",
          "c",
          "c",
          "c",
          "c",
          "c",
          "c",
          "c",
          "c",
          "c",
          "c",
          "c",
          "c",
          "c",
          "c",
          "c",
          "c",
          "c",
          "c",
          "c",
          "c",
          "c",
          "c",
          "c",
          "c",
          "c",
          "c",
          "c",
          "c",
          "c",
          "c",
          "c",
          "c",
          "c",
          "d",
          "d",
          "d",
          "d",
          "d",
          "d",
          "d",
          "d",
          "d",
          "d",
          "d",
          "d",
          "d",
          "d",
          "d",
          "d",
          "d",
          "d",
          "d",
          "d",
          "d",
          "d",
          "d",
          "d",
          "d",
          "d",
          "d",
          "d",
          "d",
          "d",
          "d",
          "d",
          "d",
          "d",
          "d",
          "d",
          "d",
          "d",
          "d",
          "d",
          "d",
          "d",
          "d",
          "d",
          "d",
          "d",
          "d",
          "d",
          "d"
         ],
         "x0": " ",
         "xaxis": "x",
         "y": [
          0.1995193077720049,
          0.20497369141911367,
          0.20718187694820445,
          0.20775503763773037,
          0.20832072384791703,
          0.20885526774170884,
          0.20941748087577797,
          0.2094425286094872,
          0.21006318469997115,
          0.2106480925274325,
          0.21060922572077337,
          0.21118178857642875,
          0.21186302382533964,
          0.21179281336952102,
          0.2123975852985414,
          0.2124342659549323,
          0.21301217925107716,
          0.2136315888334134,
          0.21419757603771078,
          0.21417963895677153,
          0.2147807745369066,
          0.21483767905732307,
          0.21537586192536456,
          0.21608170371142377,
          0.21663326998809998,
          0.21661800242513932,
          0.21725639160032867,
          0.21670789864763396,
          0.21785216937755167,
          0.21577576045600275,
          0.21909004476173238,
          0.2191839542458578,
          0.21978870580640514,
          0.22037450960323518,
          0.22043628362022816,
          0.22114759462680877,
          0.22173324700164682,
          0.2217088584752035,
          0.21958845203500726,
          0.22309491095709666,
          0.22177001765936577,
          0.2237427964029455,
          0.2237457643561792,
          0.22309938420284212,
          0.22437528883748545,
          0.22503715135225438,
          0.2251282225895352,
          0.22437512695205883,
          0.22645172490831167,
          0.8357078869304077,
          0.8422006767861994,
          0.8432199905566653,
          0.8428304595866457,
          0.8450012423857887,
          0.8446255941667308,
          0.8468181610686171,
          0.8442322189811657,
          0.843816931690442,
          0.8434225123269479,
          0.8434390288760606,
          0.8430376985430345,
          0.8452461100176942,
          0.8452554763320165,
          0.8448715542503037,
          0.8448716785524041,
          0.8444561519457783,
          0.8466846872270937,
          0.8462791658977636,
          0.8436505788192603,
          0.8459114203111459,
          0.8458952243322724,
          0.8454975800923468,
          0.8450971802453011,
          0.8473608260879747,
          0.8447206865780293,
          0.8469760238457205,
          0.8473616926009433,
          0.8465766335104855,
          0.8461700041459033,
          0.848456007544391,
          0.845778041373043,
          0.8480579343795033,
          0.8476634900553506,
          0.8476758520174589,
          0.8472664598773704,
          0.8468601156420112,
          0.8468558676469482,
          0.8491686258133527,
          0.8487983019976686,
          0.8468840362957182,
          0.848411085422625,
          0.8484221139005576,
          0.848826409169462,
          0.8480309172960376,
          0.8475766156755214,
          0.8476060250970654,
          0.848048657983408,
          0.849553006101696
         ],
         "y0": " ",
         "yaxis": "y"
        },
        {
         "alignmentgroup": "True",
         "boxpoints": "all",
         "hovertemplate": "ID=02<br>coef=%{x}<br>val=%{y}<extra></extra>",
         "legendgroup": "02",
         "marker": {
          "color": "#FFA15A"
         },
         "name": "02",
         "notched": false,
         "offsetgroup": "02",
         "orientation": "v",
         "showlegend": true,
         "type": "box",
         "x": [
          "c",
          "c",
          "c",
          "c",
          "c",
          "c",
          "c",
          "c",
          "c",
          "c",
          "c",
          "c",
          "c",
          "c",
          "c",
          "c",
          "c",
          "c",
          "c",
          "c",
          "c",
          "c",
          "c",
          "c",
          "c",
          "c",
          "c",
          "c",
          "c",
          "c",
          "c",
          "c",
          "c",
          "c",
          "c",
          "c",
          "c",
          "c",
          "c",
          "c",
          "c",
          "c",
          "c",
          "c",
          "c",
          "c",
          "c",
          "c",
          "c",
          "d",
          "d",
          "d",
          "d",
          "d",
          "d",
          "d",
          "d",
          "d",
          "d",
          "d",
          "d",
          "d",
          "d",
          "d",
          "d",
          "d",
          "d",
          "d",
          "d",
          "d",
          "d",
          "d",
          "d",
          "d",
          "d",
          "d",
          "d",
          "d",
          "d",
          "d",
          "d",
          "d",
          "d",
          "d",
          "d",
          "d",
          "d",
          "d",
          "d",
          "d",
          "d",
          "d",
          "d",
          "d",
          "d",
          "d",
          "d",
          "d"
         ],
         "x0": " ",
         "xaxis": "x",
         "y": [
          0.2547562268598631,
          0.25749642071797396,
          0.26014075045841717,
          0.2601927214349393,
          0.2610775840024409,
          0.26189549831748915,
          0.26281128485179855,
          0.26373617095411167,
          0.2638202130825254,
          0.2646506001183133,
          0.2655845970802906,
          0.2647061220162367,
          0.2665205221427869,
          0.26659388805018086,
          0.26842349788777026,
          0.26943900518879715,
          0.26846678390713113,
          0.2694677972700163,
          0.27132411746787916,
          0.2723630485200127,
          0.2733120439546446,
          0.2733303072682168,
          0.2743066869269113,
          0.2752626781444942,
          0.274404542776838,
          0.2764113122335269,
          0.27739434451373773,
          0.2763627675731949,
          0.27939147158458116,
          0.2795064798199916,
          0.2804607473549781,
          0.2815042306137978,
          0.28048282239353284,
          0.2825257543557694,
          0.28254843285798786,
          0.28266210166977374,
          0.2836950247849522,
          0.2846780233221521,
          0.28678723324320554,
          0.285804688474082,
          0.2880221285696013,
          0.28901989306167686,
          0.2891317726113939,
          0.28907904795135925,
          0.291298947043134,
          0.2923927676142667,
          0.2924683779368223,
          0.29355294561201384,
          0.29470135385001855,
          0.8598719539879643,
          0.8666921209215996,
          0.8686433643347794,
          0.8653720657850835,
          0.8648817715624494,
          0.8677179661686671,
          0.86726678324288,
          0.866867291124713,
          0.8668951237676498,
          0.8664501446041111,
          0.8660005638813769,
          0.8664152312804325,
          0.8655430562849775,
          0.8655726150332287,
          0.8680024300442046,
          0.8676176206246121,
          0.868077295107859,
          0.8676233659923966,
          0.8667394210738018,
          0.8696898096173722,
          0.8692557766751058,
          0.8692939323211445,
          0.8688911244119079,
          0.8683969706724363,
          0.8688504581478044,
          0.8680146388132213,
          0.8710118028777678,
          0.8680078142078705,
          0.8701533054317245,
          0.870158677747736,
          0.8697064043906501,
          0.8727779935373866,
          0.869737692973709,
          0.8723551154132945,
          0.8723686088811292,
          0.8688592046325564,
          0.8719497234904093,
          0.8714941894824672,
          0.8741612526476747,
          0.8710629466831739,
          0.8701613430026028,
          0.8733045231342808,
          0.8733148710864949,
          0.8733161981309298,
          0.8724229774360379,
          0.8755915101112528,
          0.8720026759990531,
          0.8751716704945651,
          0.8747175573884838
         ],
         "y0": " ",
         "yaxis": "y"
        },
        {
         "alignmentgroup": "True",
         "boxpoints": "all",
         "hovertemplate": "ID=03<br>coef=%{x}<br>val=%{y}<extra></extra>",
         "legendgroup": "03",
         "marker": {
          "color": "#19d3f3"
         },
         "name": "03",
         "notched": false,
         "offsetgroup": "03",
         "orientation": "v",
         "showlegend": true,
         "type": "box",
         "x": [
          "c",
          "c",
          "c",
          "c",
          "c",
          "c",
          "c",
          "c",
          "c",
          "c",
          "c",
          "c",
          "c",
          "c",
          "c",
          "c",
          "c",
          "c",
          "c",
          "c",
          "c",
          "c",
          "c",
          "c",
          "c",
          "c",
          "c",
          "c",
          "c",
          "c",
          "c",
          "c",
          "c",
          "c",
          "c",
          "c",
          "c",
          "c",
          "c",
          "c",
          "c",
          "c",
          "c",
          "c",
          "c",
          "c",
          "c",
          "c",
          "c",
          "d",
          "d",
          "d",
          "d",
          "d",
          "d",
          "d",
          "d",
          "d",
          "d",
          "d",
          "d",
          "d",
          "d",
          "d",
          "d",
          "d",
          "d",
          "d",
          "d",
          "d",
          "d",
          "d",
          "d",
          "d",
          "d",
          "d",
          "d",
          "d",
          "d",
          "d",
          "d",
          "d",
          "d",
          "d",
          "d",
          "d",
          "d",
          "d",
          "d",
          "d",
          "d",
          "d",
          "d",
          "d",
          "d",
          "d",
          "d",
          "d"
         ],
         "x0": " ",
         "xaxis": "x",
         "y": [
          0.07984141667956797,
          0.08183427594570586,
          0.08170452932111671,
          0.08113900321107367,
          0.08141310972079044,
          0.08161371427743416,
          0.08102184894098607,
          0.08127457864098792,
          0.08139145805272051,
          0.08158191782835944,
          0.08099466389402547,
          0.08118191575296319,
          0.08099905403203699,
          0.0815067058080315,
          0.08170153404142512,
          0.08155245737571223,
          0.08125224109283867,
          0.08144424993080814,
          0.08161804868085203,
          0.08181724821079574,
          0.08202639494570665,
          0.08136670497016708,
          0.08239069908613267,
          0.08178651751062672,
          0.0819912451874487,
          0.08218660791626081,
          0.08239955166066444,
          0.08253974364808675,
          0.08233210649273713,
          0.08288272885797207,
          0.08226780003478106,
          0.08326292477660088,
          0.0825707188666553,
          0.08290508889111461,
          0.08269116447209808,
          0.0833696458829034,
          0.08358286100329691,
          0.08293702036154817,
          0.08308633467788891,
          0.08374250058777986,
          0.08354719884945604,
          0.08368554709034086,
          0.08389889843470076,
          0.08409102596400067,
          0.08428572009483298,
          0.084066381283156,
          0.08467242682707694,
          0.084848312193502,
          0.08466837532485223,
          0.8329748323122081,
          0.838608486514619,
          0.838143170850888,
          0.8375838127395266,
          0.8379010171934472,
          0.8375005046546022,
          0.8378826147360209,
          0.8381477123549953,
          0.8371111061611552,
          0.837517117086768,
          0.837120590859655,
          0.8367266846456113,
          0.8371153318448123,
          0.8368639307694191,
          0.836471001273142,
          0.8375077575647819,
          0.8366148986251966,
          0.837007320799917,
          0.8366106080007006,
          0.8370069083538724,
          0.8366311351224277,
          0.8363560307087137,
          0.8367634329193445,
          0.8363715407174422,
          0.8367839843443997,
          0.8363730388575475,
          0.836782434302768,
          0.8364989158046193,
          0.8361041326492045,
          0.8366529061451505,
          0.8362356422148189,
          0.8359813060012051,
          0.8356982837169042,
          0.835846560903354,
          0.8354226862648293,
          0.8358435610782433,
          0.8362447049446181,
          0.8358465621116093,
          0.8355739622394232,
          0.8359795111962622,
          0.8364244393914143,
          0.8361602705990859,
          0.8365915202908614,
          0.8363315679654434,
          0.8359029725393344,
          0.83632702708848,
          0.8360671638107386,
          0.8357938317652307,
          0.8360647846397704
         ],
         "y0": " ",
         "yaxis": "y"
        }
       ],
       "layout": {
        "boxmode": "group",
        "legend": {
         "title": {
          "text": "ID"
         },
         "tracegroupgap": 0
        },
        "margin": {
         "t": 60
        },
        "template": {
         "data": {
          "bar": [
           {
            "error_x": {
             "color": "#2a3f5f"
            },
            "error_y": {
             "color": "#2a3f5f"
            },
            "marker": {
             "line": {
              "color": "#E5ECF6",
              "width": 0.5
             },
             "pattern": {
              "fillmode": "overlay",
              "size": 10,
              "solidity": 0.2
             }
            },
            "type": "bar"
           }
          ],
          "barpolar": [
           {
            "marker": {
             "line": {
              "color": "#E5ECF6",
              "width": 0.5
             },
             "pattern": {
              "fillmode": "overlay",
              "size": 10,
              "solidity": 0.2
             }
            },
            "type": "barpolar"
           }
          ],
          "carpet": [
           {
            "aaxis": {
             "endlinecolor": "#2a3f5f",
             "gridcolor": "white",
             "linecolor": "white",
             "minorgridcolor": "white",
             "startlinecolor": "#2a3f5f"
            },
            "baxis": {
             "endlinecolor": "#2a3f5f",
             "gridcolor": "white",
             "linecolor": "white",
             "minorgridcolor": "white",
             "startlinecolor": "#2a3f5f"
            },
            "type": "carpet"
           }
          ],
          "choropleth": [
           {
            "colorbar": {
             "outlinewidth": 0,
             "ticks": ""
            },
            "type": "choropleth"
           }
          ],
          "contour": [
           {
            "colorbar": {
             "outlinewidth": 0,
             "ticks": ""
            },
            "colorscale": [
             [
              0,
              "#0d0887"
             ],
             [
              0.1111111111111111,
              "#46039f"
             ],
             [
              0.2222222222222222,
              "#7201a8"
             ],
             [
              0.3333333333333333,
              "#9c179e"
             ],
             [
              0.4444444444444444,
              "#bd3786"
             ],
             [
              0.5555555555555556,
              "#d8576b"
             ],
             [
              0.6666666666666666,
              "#ed7953"
             ],
             [
              0.7777777777777778,
              "#fb9f3a"
             ],
             [
              0.8888888888888888,
              "#fdca26"
             ],
             [
              1,
              "#f0f921"
             ]
            ],
            "type": "contour"
           }
          ],
          "contourcarpet": [
           {
            "colorbar": {
             "outlinewidth": 0,
             "ticks": ""
            },
            "type": "contourcarpet"
           }
          ],
          "heatmap": [
           {
            "colorbar": {
             "outlinewidth": 0,
             "ticks": ""
            },
            "colorscale": [
             [
              0,
              "#0d0887"
             ],
             [
              0.1111111111111111,
              "#46039f"
             ],
             [
              0.2222222222222222,
              "#7201a8"
             ],
             [
              0.3333333333333333,
              "#9c179e"
             ],
             [
              0.4444444444444444,
              "#bd3786"
             ],
             [
              0.5555555555555556,
              "#d8576b"
             ],
             [
              0.6666666666666666,
              "#ed7953"
             ],
             [
              0.7777777777777778,
              "#fb9f3a"
             ],
             [
              0.8888888888888888,
              "#fdca26"
             ],
             [
              1,
              "#f0f921"
             ]
            ],
            "type": "heatmap"
           }
          ],
          "heatmapgl": [
           {
            "colorbar": {
             "outlinewidth": 0,
             "ticks": ""
            },
            "colorscale": [
             [
              0,
              "#0d0887"
             ],
             [
              0.1111111111111111,
              "#46039f"
             ],
             [
              0.2222222222222222,
              "#7201a8"
             ],
             [
              0.3333333333333333,
              "#9c179e"
             ],
             [
              0.4444444444444444,
              "#bd3786"
             ],
             [
              0.5555555555555556,
              "#d8576b"
             ],
             [
              0.6666666666666666,
              "#ed7953"
             ],
             [
              0.7777777777777778,
              "#fb9f3a"
             ],
             [
              0.8888888888888888,
              "#fdca26"
             ],
             [
              1,
              "#f0f921"
             ]
            ],
            "type": "heatmapgl"
           }
          ],
          "histogram": [
           {
            "marker": {
             "pattern": {
              "fillmode": "overlay",
              "size": 10,
              "solidity": 0.2
             }
            },
            "type": "histogram"
           }
          ],
          "histogram2d": [
           {
            "colorbar": {
             "outlinewidth": 0,
             "ticks": ""
            },
            "colorscale": [
             [
              0,
              "#0d0887"
             ],
             [
              0.1111111111111111,
              "#46039f"
             ],
             [
              0.2222222222222222,
              "#7201a8"
             ],
             [
              0.3333333333333333,
              "#9c179e"
             ],
             [
              0.4444444444444444,
              "#bd3786"
             ],
             [
              0.5555555555555556,
              "#d8576b"
             ],
             [
              0.6666666666666666,
              "#ed7953"
             ],
             [
              0.7777777777777778,
              "#fb9f3a"
             ],
             [
              0.8888888888888888,
              "#fdca26"
             ],
             [
              1,
              "#f0f921"
             ]
            ],
            "type": "histogram2d"
           }
          ],
          "histogram2dcontour": [
           {
            "colorbar": {
             "outlinewidth": 0,
             "ticks": ""
            },
            "colorscale": [
             [
              0,
              "#0d0887"
             ],
             [
              0.1111111111111111,
              "#46039f"
             ],
             [
              0.2222222222222222,
              "#7201a8"
             ],
             [
              0.3333333333333333,
              "#9c179e"
             ],
             [
              0.4444444444444444,
              "#bd3786"
             ],
             [
              0.5555555555555556,
              "#d8576b"
             ],
             [
              0.6666666666666666,
              "#ed7953"
             ],
             [
              0.7777777777777778,
              "#fb9f3a"
             ],
             [
              0.8888888888888888,
              "#fdca26"
             ],
             [
              1,
              "#f0f921"
             ]
            ],
            "type": "histogram2dcontour"
           }
          ],
          "mesh3d": [
           {
            "colorbar": {
             "outlinewidth": 0,
             "ticks": ""
            },
            "type": "mesh3d"
           }
          ],
          "parcoords": [
           {
            "line": {
             "colorbar": {
              "outlinewidth": 0,
              "ticks": ""
             }
            },
            "type": "parcoords"
           }
          ],
          "pie": [
           {
            "automargin": true,
            "type": "pie"
           }
          ],
          "scatter": [
           {
            "fillpattern": {
             "fillmode": "overlay",
             "size": 10,
             "solidity": 0.2
            },
            "type": "scatter"
           }
          ],
          "scatter3d": [
           {
            "line": {
             "colorbar": {
              "outlinewidth": 0,
              "ticks": ""
             }
            },
            "marker": {
             "colorbar": {
              "outlinewidth": 0,
              "ticks": ""
             }
            },
            "type": "scatter3d"
           }
          ],
          "scattercarpet": [
           {
            "marker": {
             "colorbar": {
              "outlinewidth": 0,
              "ticks": ""
             }
            },
            "type": "scattercarpet"
           }
          ],
          "scattergeo": [
           {
            "marker": {
             "colorbar": {
              "outlinewidth": 0,
              "ticks": ""
             }
            },
            "type": "scattergeo"
           }
          ],
          "scattergl": [
           {
            "marker": {
             "colorbar": {
              "outlinewidth": 0,
              "ticks": ""
             }
            },
            "type": "scattergl"
           }
          ],
          "scattermapbox": [
           {
            "marker": {
             "colorbar": {
              "outlinewidth": 0,
              "ticks": ""
             }
            },
            "type": "scattermapbox"
           }
          ],
          "scatterpolar": [
           {
            "marker": {
             "colorbar": {
              "outlinewidth": 0,
              "ticks": ""
             }
            },
            "type": "scatterpolar"
           }
          ],
          "scatterpolargl": [
           {
            "marker": {
             "colorbar": {
              "outlinewidth": 0,
              "ticks": ""
             }
            },
            "type": "scatterpolargl"
           }
          ],
          "scatterternary": [
           {
            "marker": {
             "colorbar": {
              "outlinewidth": 0,
              "ticks": ""
             }
            },
            "type": "scatterternary"
           }
          ],
          "surface": [
           {
            "colorbar": {
             "outlinewidth": 0,
             "ticks": ""
            },
            "colorscale": [
             [
              0,
              "#0d0887"
             ],
             [
              0.1111111111111111,
              "#46039f"
             ],
             [
              0.2222222222222222,
              "#7201a8"
             ],
             [
              0.3333333333333333,
              "#9c179e"
             ],
             [
              0.4444444444444444,
              "#bd3786"
             ],
             [
              0.5555555555555556,
              "#d8576b"
             ],
             [
              0.6666666666666666,
              "#ed7953"
             ],
             [
              0.7777777777777778,
              "#fb9f3a"
             ],
             [
              0.8888888888888888,
              "#fdca26"
             ],
             [
              1,
              "#f0f921"
             ]
            ],
            "type": "surface"
           }
          ],
          "table": [
           {
            "cells": {
             "fill": {
              "color": "#EBF0F8"
             },
             "line": {
              "color": "white"
             }
            },
            "header": {
             "fill": {
              "color": "#C8D4E3"
             },
             "line": {
              "color": "white"
             }
            },
            "type": "table"
           }
          ]
         },
         "layout": {
          "annotationdefaults": {
           "arrowcolor": "#2a3f5f",
           "arrowhead": 0,
           "arrowwidth": 1
          },
          "autotypenumbers": "strict",
          "coloraxis": {
           "colorbar": {
            "outlinewidth": 0,
            "ticks": ""
           }
          },
          "colorscale": {
           "diverging": [
            [
             0,
             "#8e0152"
            ],
            [
             0.1,
             "#c51b7d"
            ],
            [
             0.2,
             "#de77ae"
            ],
            [
             0.3,
             "#f1b6da"
            ],
            [
             0.4,
             "#fde0ef"
            ],
            [
             0.5,
             "#f7f7f7"
            ],
            [
             0.6,
             "#e6f5d0"
            ],
            [
             0.7,
             "#b8e186"
            ],
            [
             0.8,
             "#7fbc41"
            ],
            [
             0.9,
             "#4d9221"
            ],
            [
             1,
             "#276419"
            ]
           ],
           "sequential": [
            [
             0,
             "#0d0887"
            ],
            [
             0.1111111111111111,
             "#46039f"
            ],
            [
             0.2222222222222222,
             "#7201a8"
            ],
            [
             0.3333333333333333,
             "#9c179e"
            ],
            [
             0.4444444444444444,
             "#bd3786"
            ],
            [
             0.5555555555555556,
             "#d8576b"
            ],
            [
             0.6666666666666666,
             "#ed7953"
            ],
            [
             0.7777777777777778,
             "#fb9f3a"
            ],
            [
             0.8888888888888888,
             "#fdca26"
            ],
            [
             1,
             "#f0f921"
            ]
           ],
           "sequentialminus": [
            [
             0,
             "#0d0887"
            ],
            [
             0.1111111111111111,
             "#46039f"
            ],
            [
             0.2222222222222222,
             "#7201a8"
            ],
            [
             0.3333333333333333,
             "#9c179e"
            ],
            [
             0.4444444444444444,
             "#bd3786"
            ],
            [
             0.5555555555555556,
             "#d8576b"
            ],
            [
             0.6666666666666666,
             "#ed7953"
            ],
            [
             0.7777777777777778,
             "#fb9f3a"
            ],
            [
             0.8888888888888888,
             "#fdca26"
            ],
            [
             1,
             "#f0f921"
            ]
           ]
          },
          "colorway": [
           "#636efa",
           "#EF553B",
           "#00cc96",
           "#ab63fa",
           "#FFA15A",
           "#19d3f3",
           "#FF6692",
           "#B6E880",
           "#FF97FF",
           "#FECB52"
          ],
          "font": {
           "color": "#2a3f5f"
          },
          "geo": {
           "bgcolor": "white",
           "lakecolor": "white",
           "landcolor": "#E5ECF6",
           "showlakes": true,
           "showland": true,
           "subunitcolor": "white"
          },
          "hoverlabel": {
           "align": "left"
          },
          "hovermode": "closest",
          "mapbox": {
           "style": "light"
          },
          "paper_bgcolor": "white",
          "plot_bgcolor": "#E5ECF6",
          "polar": {
           "angularaxis": {
            "gridcolor": "white",
            "linecolor": "white",
            "ticks": ""
           },
           "bgcolor": "#E5ECF6",
           "radialaxis": {
            "gridcolor": "white",
            "linecolor": "white",
            "ticks": ""
           }
          },
          "scene": {
           "xaxis": {
            "backgroundcolor": "#E5ECF6",
            "gridcolor": "white",
            "gridwidth": 2,
            "linecolor": "white",
            "showbackground": true,
            "ticks": "",
            "zerolinecolor": "white"
           },
           "yaxis": {
            "backgroundcolor": "#E5ECF6",
            "gridcolor": "white",
            "gridwidth": 2,
            "linecolor": "white",
            "showbackground": true,
            "ticks": "",
            "zerolinecolor": "white"
           },
           "zaxis": {
            "backgroundcolor": "#E5ECF6",
            "gridcolor": "white",
            "gridwidth": 2,
            "linecolor": "white",
            "showbackground": true,
            "ticks": "",
            "zerolinecolor": "white"
           }
          },
          "shapedefaults": {
           "line": {
            "color": "#2a3f5f"
           }
          },
          "ternary": {
           "aaxis": {
            "gridcolor": "white",
            "linecolor": "white",
            "ticks": ""
           },
           "baxis": {
            "gridcolor": "white",
            "linecolor": "white",
            "ticks": ""
           },
           "bgcolor": "#E5ECF6",
           "caxis": {
            "gridcolor": "white",
            "linecolor": "white",
            "ticks": ""
           }
          },
          "title": {
           "x": 0.05
          },
          "xaxis": {
           "automargin": true,
           "gridcolor": "white",
           "linecolor": "white",
           "ticks": "",
           "title": {
            "standoff": 15
           },
           "zerolinecolor": "white",
           "zerolinewidth": 2
          },
          "yaxis": {
           "automargin": true,
           "gridcolor": "white",
           "linecolor": "white",
           "ticks": "",
           "title": {
            "standoff": 15
           },
           "zerolinecolor": "white",
           "zerolinewidth": 2
          }
         }
        },
        "xaxis": {
         "anchor": "y",
         "domain": [
          0,
          1
         ],
         "title": {
          "text": "coef"
         }
        },
        "yaxis": {
         "anchor": "x",
         "domain": [
          0,
          1
         ],
         "title": {
          "text": "val"
         }
        }
       }
      }
     },
     "metadata": {},
     "output_type": "display_data"
    }
   ],
   "source": [
    "fig = px.box(cross_coef_df, x='coef', y='val', color='ID', points='all')\n",
    "\n",
    "fig.show()"
   ]
  },
  {
   "cell_type": "markdown",
   "metadata": {},
   "source": [
    "### G parameter"
   ]
  },
  {
   "cell_type": "markdown",
   "metadata": {},
   "source": [
    "#### Func."
   ]
  },
  {
   "cell_type": "code",
   "execution_count": 10,
   "metadata": {},
   "outputs": [],
   "source": [
    "class GReg():\n",
    "    def __init__(self, img_name, raw_path, bleach_path, bleach_frame, bleach_exp, A_exp, D_exp, coef_list, trim_frame=-1, mask=True):\n",
    "        self.img_name = img_name\n",
    "        self.img_raw = io.imread(raw_path)[:trim_frame]\n",
    "        self.img_bleach = io.imread(bleach_path)[:trim_frame]\n",
    "\n",
    "        self.bleach_frame = bleach_frame\n",
    "        self.bleach_exp = bleach_exp\n",
    "        self.A_exp = A_exp\n",
    "        self.D_exp = D_exp\n",
    "\n",
    "        self.a = coef_list[0]\n",
    "        self.b = coef_list[1]\n",
    "        self.c = coef_list[2]\n",
    "        self.d = coef_list[3]\n",
    "\n",
    "\n",
    "        self.DD_img = self.img_raw[:,:,:,0]  # CFP-435  DD\n",
    "        self.DA_img = self.img_raw[:,:,:,1]  # YFP-435  DA\n",
    "        self.AD_img = self.img_raw[:,:,:,2]  # CFP-505  AD\n",
    "        self.AA_img = self.img_raw[:,:,:,3]  # YFP-505  AA\n",
    "\n",
    "        self.DD_img_post = self.img_bleach[:,:,:,0]\n",
    "        self.DA_img_post = self.img_bleach[:,:,:,1]\n",
    "        self.AD_img_post = self.img_bleach[:,:,:,2]\n",
    "        self.AA_img_post = self.img_bleach[:,:,:,3]\n",
    "\n",
    "\n",
    "        self.DD_mean_img = np.mean(self.DD_img, axis=0)\n",
    "        self.DA_mean_img = np.mean(self.DA_img, axis=0)\n",
    "        self.AD_mean_img = np.mean(self.AD_img, axis=0)\n",
    "        self.AA_mean_img = np.mean(self.AA_img, axis=0)\n",
    "\n",
    "        if mask:\n",
    "            self.mask = self.__cell_mask()\n",
    "\n",
    "            self.DD_img = self.__mask_along_frames(self.DD_img, self.mask)\n",
    "            self.DA_img = self.__mask_along_frames(self.DA_img, self.mask)\n",
    "            self.AD_img = self.__mask_along_frames(self.AD_img, self.mask)\n",
    "            self.AA_img = self.__mask_along_frames(self.AA_img, self.mask)\n",
    "\n",
    "\n",
    "    @staticmethod\n",
    "    def __mask_along_frames(series, mask):\n",
    "        masked_series = []\n",
    "        for frame in series:\n",
    "            back_mean = np.mean(frame, where=mask)\n",
    "            masked_frame = np.copy(frame)\n",
    "            masked_frame[~mask] = back_mean / 4\n",
    "            masked_series.append(masked_frame)\n",
    "        return np.asarray(masked_series)\n",
    "\n",
    "\n",
    "    def __cell_mask(self):\n",
    "        raw_mask = self.AA_mean_img > filters.threshold_otsu(self.AA_mean_img)\n",
    "\n",
    "        mask = morphology.opening(raw_mask, footprint=morphology.disk(10))\n",
    "        mask = morphology.erosion(mask, footprint=morphology.disk(5))\n",
    "        return mask\n",
    "\n",
    "\n",
    "    def Fc_calc(self):\n",
    "        pass\n",
    "\n",
    "\n",
    "    def ch_pic(self):\n",
    "        int_min = np.min(self.img_raw)\n",
    "        int_max = np.max(self.img_raw)\n",
    "\n",
    "\n",
    "        plt.figure(figsize=(10,10))\n",
    "\n",
    "        ax0 = plt.subplot(221)\n",
    "        ax0.set_title('DD (Ch.0)')\n",
    "        img0 = ax0.imshow(self.DD_mean_img, cmap='jet')\n",
    "        img0.set_clim(vmin=int_min, vmax=int_max)\n",
    "        div0 = make_axes_locatable(ax0)\n",
    "        cax0 = div0.append_axes('right', size='3%', pad=0.1)\n",
    "        plt.colorbar(img0, cax=cax0)\n",
    "        ax0.axis('off')\n",
    "\n",
    "        ax1 = plt.subplot(222)\n",
    "        ax1.set_title('DA (Ch.1)')\n",
    "        img1 = ax1.imshow(self.DA_mean_img, cmap='jet')\n",
    "        img1.set_clim(vmin=int_min, vmax=int_max)\n",
    "        div1 = make_axes_locatable(ax1)\n",
    "        cax1 = div1.append_axes('right', size='3%', pad=0.1)\n",
    "        plt.colorbar(img1, cax=cax1)\n",
    "        ax1.axis('off')\n",
    "\n",
    "        ax2 = plt.subplot(223)\n",
    "        ax2.set_title('AD (Ch.2)')\n",
    "        img2 = ax2.imshow(self.AD_mean_img, cmap='jet')\n",
    "        img2.set_clim(vmin=int_min, vmax=int_max)\n",
    "        div2 = make_axes_locatable(ax2)\n",
    "        cax2 = div2.append_axes('right', size='3%', pad=0.1)\n",
    "        plt.colorbar(img2, cax=cax2)\n",
    "        ax2.axis('off')\n",
    "\n",
    "        ax3 = plt.subplot(224)\n",
    "        ax3.set_title('AA (Ch.3)')\n",
    "        img3 = ax3.imshow(self.AA_mean_img, cmap='jet')\n",
    "        img3.set_clim(vmin=int_min, vmax=int_max)\n",
    "        div3 = make_axes_locatable(ax3)\n",
    "        cax3 = div3.append_axes('right', size='3%', pad=0.1)\n",
    "        plt.colorbar(img3, cax=cax3)\n",
    "        ax3.axis('off')\n",
    "\n",
    "        plt.suptitle(f'File {self.img_name}')\n",
    "        plt.tight_layout()\n",
    "        plt.show()"
   ]
  },
  {
   "cell_type": "markdown",
   "metadata": {},
   "source": [
    "#### Parameters"
   ]
  },
  {
   "cell_type": "code",
   "execution_count": 6,
   "metadata": {},
   "outputs": [],
   "source": [
    "a = 0.144\n",
    "b = 0.1292\n",
    "c = 0.2458\n",
    "d = 0.8506\n",
    "\n",
    "abcd = [a, b, c, d]"
   ]
  },
  {
   "cell_type": "markdown",
   "metadata": {},
   "source": [
    "#### Uploading"
   ]
  },
  {
   "cell_type": "code",
   "execution_count": 12,
   "metadata": {},
   "outputs": [],
   "source": [
    "tandem_folder = 'data/tandem/'\n",
    "\n",
    "tandem_reg = {'FOV1':['01', '02', 100, 800, 400, 100],  # [raw reg, post reg, bleach frames, bleach exp, 435 exp, 505 exp]\n",
    "              'FOV2':['03', '04', 100, 800, 400, 200]}\n",
    "\n",
    "tandem_reg_list = []\n",
    "for reg_name in tandem_reg.keys():\n",
    "    reg_params = tandem_reg[reg_name]\n",
    "    raw_path = tandem_folder + f'{reg_params[0]}.tif'\n",
    "    bleach_path = tandem_folder + f'{reg_params[1]}.tif'\n",
    "    tandem_reg_list.append(GReg(img_name=reg_name,\n",
    "                                raw_path=raw_path,\n",
    "                                bleach_path=bleach_path,\n",
    "                                bleach_frame=reg_params[2],\n",
    "                                bleach_exp=reg_params[3],\n",
    "                                A_exp=reg_params[4],\n",
    "                                D_exp=reg_params[5],\n",
    "                                coef_list=abcd))"
   ]
  },
  {
   "cell_type": "code",
   "execution_count": 13,
   "metadata": {},
   "outputs": [
    {
     "data": {
      "image/png": "[encoded data removed]",
      "text/plain": [
       "<Figure size 1000x1000 with 8 Axes>"
      ]
     },
     "metadata": {},
     "output_type": "display_data"
    },
    {
     "data": {
      "image/png": "[encoded data removed]",
      "text/plain": [
       "<Figure size 1000x1000 with 8 Axes>"
      ]
     },
     "metadata": {},
     "output_type": "display_data"
    }
   ],
   "source": [
    "for reg in tandem_reg_list:\n",
    "    reg.ch_pic()"
   ]
  }
 ],
 "metadata": {
  "kernelspec": {
   "display_name": "caiman",
   "language": "python",
   "name": "python3"
  },
  "language_info": {
   "codemirror_mode": {
    "name": "ipython",
    "version": 3
   },
   "file_extension": ".py",
   "mimetype": "text/x-python",
   "name": "python",
   "nbconvert_exporter": "python",
   "pygments_lexer": "ipython3",
   "version": "3.10.8"
  },
  "orig_nbformat": 4
 },
 "nbformat": 4,
 "nbformat_minor": 2
}
