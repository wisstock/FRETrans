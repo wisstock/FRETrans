{
 "cells": [
  {
   "cell_type": "markdown",
   "metadata": {},
   "source": [
    "Calculation of Unmixing Coefficients and G Parameter\n",
    "====================================================\n",
    "---\n",
    "_Borys Olifirov, 07.2023_"
   ]
  },
  {
   "cell_type": "markdown",
   "metadata": {},
   "source": [
    "## Theoretical intro"
   ]
  },
  {
   "cell_type": "markdown",
   "metadata": {},
   "source": [
    "Based on _Zal and Gascoigne, 2004, doi: 10.1529/biophysj.103.022087_\n",
    "\n",
    "__Intensity notation__\n",
    "\n",
    "$$I_{XM(T)}$$\n",
    "\n",
    "- X - excitation type\n",
    "- M - emission type\n",
    "- T - transfection type (A if acceptor only cells), does not present for co-transfected cells\n",
    "\n",
    "\n",
    "#### Sensitized-emission\n",
    "\n",
    "$$F_c = I_{DA} - a I_{AA} - d I_{DD}$$\n",
    "\n",
    "\n",
    "#### Crosstalc caliration\n",
    "\n",
    "$$a = \\frac{I_{DA(A)}}{I_{AA(A)}}$$\n",
    "$$b = \\frac{I_{DD(A)}}{I_{AA(A)}}$$\n",
    "$$c = \\frac{I_{AA(D)}} {I_{DD(D)}}$$\n",
    "$$d = \\frac{I_{DA(D)}} {I_{DD(D)}}$$\n",
    "\n",
    "$$b \\approx c \\approx 0$$\n",
    "\n",
    "\n",
    "#### Determination of the G parameter\n",
    "\n",
    "$$G = \\frac{F_c}{I_{DD}^{post} - I_{DD}} = \\frac{(I_{DA} - a I_{AA} - d I_{DD}) - (I_{DA}^{post} - a I_{AA}^{post} - d I_{DD}^{post})}{I_{DD}^{post} - I_{DD}}$$\n",
    "\n",
    "\n",
    "#### E-FRET\n",
    "\n",
    "$$E_{app} = \\frac{R}{R+G}, R = \\frac{F_c}{I_{DD}}$$\n",
    "\n",
    "$$E_{corr} = E_{app}(t) \\frac{[A^0]_{tot}}{[A^t]_{tot}} = E_{app}(t) \\times \\frac{\\overline{I_{AA}^0 - c I_{DD}^0}}{\\overline{I_{AA}(t) - c I_{DD}(t)}}$$"
   ]
  },
  {
   "cell_type": "markdown",
   "metadata": {},
   "source": [
    "## Script"
   ]
  },
  {
   "cell_type": "code",
   "execution_count": null,
   "metadata": {},
   "outputs": [],
   "source": [
    "import os\n",
    "import sys\n",
    "import glob\n",
    "import yaml\n",
    "\n",
    "import numpy as np\n",
    "from numpy import ma\n",
    "import pandas as pd\n",
    "\n",
    "import matplotlib.pyplot as plt\n",
    "import matplotlib.patches as patches\n",
    "import matplotlib.animation as anm\n",
    "from mpl_toolkits.axes_grid1 import make_axes_locatable\n",
    "from matplotlib import colors\n",
    "from matplotlib.colors import LinearSegmentedColormap\n",
    "\n",
    "import plotly.express as px\n",
    "\n",
    "from skimage.util import montage\n",
    "from skimage.filters import rank\n",
    "from skimage import morphology\n",
    "from skimage import exposure\n",
    "from skimage import measure\n",
    "from skimage import filters\n",
    "from skimage import io\n",
    "from skimage import transform\n",
    "from skimage import registration\n",
    "\n",
    "from scipy import ndimage\n",
    "from scipy import signal\n",
    "from scipy import stats\n",
    "from scipy import ndimage as ndi"
   ]
  }
 ],
 "metadata": {
  "language_info": {
   "name": "python"
  },
  "orig_nbformat": 4
 },
 "nbformat": 4,
 "nbformat_minor": 2
}
